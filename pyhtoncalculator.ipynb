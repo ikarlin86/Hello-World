{
  "nbformat": 4,
  "nbformat_minor": 0,
  "metadata": {
    "colab": {
      "name": "pyhtoncalculator.ipynb",
      "provenance": [],
      "collapsed_sections": [],
      "authorship_tag": "ABX9TyP4QsNzZKGkcobTJt3KRfsj",
      "include_colab_link": true
    },
    "kernelspec": {
      "display_name": "Python 3",
      "name": "python3"
    },
    "language_info": {
      "name": "python"
    }
  },
  "cells": [
    {
      "cell_type": "markdown",
      "metadata": {
        "id": "view-in-github",
        "colab_type": "text"
      },
      "source": [
        "<a href=\"https://colab.research.google.com/github/ikarlin86/Hello-World/blob/main/pyhtoncalculator.ipynb\" target=\"_parent\"><img src=\"https://colab.research.google.com/assets/colab-badge.svg\" alt=\"Open In Colab\"/></a>"
      ]
    },
    {
      "cell_type": "code",
      "metadata": {
        "colab": {
          "background_save": true,
          "base_uri": "https://localhost:8080/"
        },
        "id": "19o6eW5YzXHf",
        "outputId": "1a9f5e38-80d9-46de-f933-51ad3ca2f1b5"
      },
      "source": [
        "#Calculadora em Python\n",
        "\n",
        "print(\"\\n******* Python Calculadora *******\")\n",
        "\n",
        "def add(x, y):\n",
        "\treturn x + y\n",
        "\n",
        "def subtract(x, y):\n",
        "\treturn x - y\n",
        "\n",
        "def multiply(x, y):\n",
        "\treturn x * y\n",
        "\n",
        "def divide(x, y):\n",
        "\treturn x / y\n",
        "\n",
        "print(\"\\nSelecione o número da operação desejada: \\n\")\n",
        "print(\"1 - Soma\")\n",
        "print(\"2 - Subtração\")\n",
        "print(\"3 - Multiplicação\")\n",
        "print(\"4 - Divisão\")\n",
        "\n",
        "Escolha = input(\"\\nDigite sua opção (1/2/3/4): \")\n",
        "\n",
        "num1 = int(input(\"\\nDigite o primeiro número: \"))\n",
        "num2 = int(input(\"\\nDigite o segundo número: \"))\n",
        "\n",
        "if Escolha == '1':\n",
        "    print(\"\\n\")\n",
        "    print(num1, \"+\", num2, \"=\", add(num1, num2))\n",
        "    print(\"\\n\")\n",
        "elif Escolha == '2':\n",
        "    print(\"\\n\")\n",
        "    print(num1, \"-\", num2, \"=\", substract(num1, num2))\n",
        "    print(\"\\n\")\n",
        "elif Escolha == '3':\n",
        "    print(\"\\n\")\n",
        "    print(num1, \"*\", num2, \"=\", multiply(num1, num2))\n",
        "    print(\"\\n\")\n",
        "elif Escolha == '4':\n",
        "    print(\"\\n\")\n",
        "    print(num1, \"/\", num2, \"=\", divide(num1, num2))\n",
        "    print(\"\\n\")\n",
        "else:\n",
        "    print(\"\\nOpção Inválida\")"
      ],
      "execution_count": null,
      "outputs": [
        {
          "name": "stdout",
          "output_type": "stream",
          "text": [
            "\n",
            "******* Python Calculadora *******\n",
            "\n",
            "Selecione o número da operação desejada: \n",
            "\n",
            "1 - Soma\n",
            "2 - Subtração\n",
            "3 - Multiplicação\n",
            "4 - Divisão\n"
          ]
        }
      ]
    }
  ]
}