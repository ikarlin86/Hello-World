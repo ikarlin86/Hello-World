{
  "nbformat": 4,
  "nbformat_minor": 0,
  "metadata": {
    "colab": {
      "name": "exemplo_mireracao_bitcoin.ipynb",
      "provenance": [],
      "authorship_tag": "ABX9TyOgVOX55w3hoHJE8w1GXkgj",
      "include_colab_link": true
    },
    "kernelspec": {
      "name": "python3",
      "display_name": "Python 3"
    },
    "language_info": {
      "name": "python"
    }
  },
  "cells": [
    {
      "cell_type": "markdown",
      "metadata": {
        "id": "view-in-github",
        "colab_type": "text"
      },
      "source": [
        "<a href=\"https://colab.research.google.com/github/ikarlin86/Hello-World/blob/main/exemplo_mireracao_bitcoin.ipynb\" target=\"_parent\"><img src=\"https://colab.research.google.com/assets/colab-badge.svg\" alt=\"Open In Colab\"/></a>"
      ]
    },
    {
      "cell_type": "markdown",
      "metadata": {
        "id": "EgELMerAHBqh"
      },
      "source": [
        "Código para Mineração de BitCoin\n",
        "https://www.blockchain.com/explorer"
      ]
    },
    {
      "cell_type": "code",
      "metadata": {
        "id": "XpJ4ZejZHJhA"
      },
      "source": [
        "from hashlib import sha256\n",
        "import time"
      ],
      "execution_count": 2,
      "outputs": []
    },
    {
      "cell_type": "code",
      "metadata": {
        "id": "IfO88FmwHWfz"
      },
      "source": [
        "def aplicar_sha256(texto):\n",
        "    return(sha256(texto.encode('ascii')).hexdigest())"
      ],
      "execution_count": 3,
      "outputs": []
    },
    {
      "cell_type": "code",
      "metadata": {
        "id": "pcxRvrxMIU22"
      },
      "source": [
        "def minerar(num_bloco, transacoes, hash_anterior, qtde_zero):\n",
        "    nonce = 0\n",
        "    while True:\n",
        "      texto = str(num_bloco) + transacoes + hash_anterior + str(nonce)\n",
        "      meu_hash = aplicar_sha256(texto)\n",
        "      if meu_hash.startswith('0'* qtde_zero):\n",
        "        return nonce, meu_hash\n",
        "      nonce =+ 1  "
      ],
      "execution_count": 5,
      "outputs": []
    },
    {
      "cell_type": "code",
      "metadata": {
        "colab": {
          "base_uri": "https://localhost:8080/"
        },
        "id": "UpLlS46YM7Dh",
        "outputId": "4fd89137-330d-438b-9cf9-1711e2a0db34"
      },
      "source": [
        "if __name__ == '__main__':\n",
        "    num_bloco = 15\n",
        "    transacoes = \"\"\"\n",
        "    Lira->Alon->10\n",
        "    Alon->Joao->5\n",
        "    Joao->Amanda->11\"\"\"\n",
        "    qtde_zero = 1\n",
        "    hash_anterior = 'abc'\n",
        "    inicio = time.time()\n",
        "    resultado = minerar(num_bloco, transacoes, hash_anterior, qtde_zero)\n",
        "    print(resultado)\n",
        "    print(time.time() - inicio)"
      ],
      "execution_count": 12,
      "outputs": [
        {
          "output_type": "stream",
          "name": "stdout",
          "text": [
            "(0, '0054bab1bdb1645c9e16750026a2a53ffb29992563f5cde9036c3ee771db0929')\n",
            "9.72747802734375e-05\n"
          ]
        }
      ]
    }
  ]
}