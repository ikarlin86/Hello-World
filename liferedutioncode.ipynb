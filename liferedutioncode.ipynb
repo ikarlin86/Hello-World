{
  "nbformat": 4,
  "nbformat_minor": 0,
  "metadata": {
    "colab": {
      "name": "liferedutioncode.ipynb",
      "provenance": [],
      "collapsed_sections": [],
      "authorship_tag": "ABX9TyNKrsXeFUZBu2bGWkkJHpxt",
      "include_colab_link": true
    },
    "kernelspec": {
      "name": "python3",
      "display_name": "Python 3"
    },
    "language_info": {
      "name": "python"
    }
  },
  "cells": [
    {
      "cell_type": "markdown",
      "metadata": {
        "id": "view-in-github",
        "colab_type": "text"
      },
      "source": [
        "<a href=\"https://colab.research.google.com/github/ikarlin86/Hello-World/blob/main/liferedutioncode.ipynb\" target=\"_parent\"><img src=\"https://colab.research.google.com/assets/colab-badge.svg\" alt=\"Open In Colab\"/></a>"
      ]
    },
    {
      "cell_type": "markdown",
      "metadata": {
        "id": "0vRnDGPSR7fJ"
      },
      "source": [
        ""
      ]
    },
    {
      "cell_type": "markdown",
      "metadata": {
        "id": "GPFfdIfSwxxd"
      },
      "source": [
        ""
      ]
    },
    {
      "cell_type": "code",
      "metadata": {
        "colab": {
          "base_uri": "https://localhost:8080/"
        },
        "id": "PrFdLFy7R8fK",
        "outputId": "186bdb57-585d-4e3b-89f9-19d05fea1706"
      },
      "source": [
        "cigarros_dia = int(input('Quantidade de cigarros por dia: '))\n",
        "anos_fumando = float(input('Quantidade de anos fumando: '))\n",
        "redu_minut = anos_fumando * 365 * cigarros_dia * 10\n",
        "\n",
        "redução_dias = redu_minut / (24*60)\n",
        "\n",
        "print('Redução do tempo de vida em dias será de %8.2f.' % redução_dias)"
      ],
      "execution_count": null,
      "outputs": [
        {
          "output_type": "stream",
          "name": "stdout",
          "text": [
            "Quantidade de cigarros por dia: 5\n",
            "Quantidade de anos fumando: 5\n",
            "Redução do tempo de vida em dias será de    63.37.\n"
          ]
        }
      ]
    }
  ]
}